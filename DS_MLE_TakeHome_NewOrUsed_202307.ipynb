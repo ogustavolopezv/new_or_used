{
 "cells": [
  {
   "cell_type": "markdown",
   "metadata": {
    "id": "v4r7WAozsHm9"
   },
   "source": [
    "# <img style=\"float: left; padding-right: 5px; width: 200px\" src=\"https://assets.entrepreneur.com/images/misc/1584487204_LOGOCODOS_fondoblanco-01.png?width=300\">\n",
    "#Data Science & Machine Learning Engineer Interview\n",
    "\n",
    "## Take Home: New or Used\n",
    "\n",
    "\n",
    "### Julio 2023\n",
    "\n",
    "<hr style=\"height:2pt\">"
   ]
  },
  {
   "attachments": {},
   "cell_type": "markdown",
   "metadata": {
    "id": "tYw5R8X5sHm_"
   },
   "source": [
    "## Descripción del Problema: Nuevo o Usado\n",
    "\n",
    "El dataset otorgado tiene 100.000 registros de items extraidos del marketplace en MercadoLibre, caracterizados a través de 26 diferentes columnas.\n",
    "\n",
    "En el contexto del Marketplace de MercadoLibre, se detecta la necesidad de un algoritmo que prediga si un item listado en el marketplace es nuevo o usado.  \n",
    "La tarea consiste en diseñar un modelo de machine learning que prediga si un item es nuevo o usado, y evaluar el mismo sobre un conjunto de datos separado.  \n",
    "(Se adjunta una celda con la cual realizar la consumicion del dataset)\n",
    "\n",
    "Para ello sugerimos realizar en una primera instancia un Exploratory Data Analysis (EDA) de este dataset, para entender la información contenida y obtener insights relevantes para tareas analíticas.\n",
    "\n",
    "A continuación, una descripción de las columnas:\n",
    "\n",
    "| Variable | Descripción |\n",
    "| :------------- | :----------- |\n",
    "| id | ID de la publicación |\n",
    "| title | Título de la publicación |\n",
    "| date_created | Fecha de creación de la publicación |\n",
    "| base_price | Precio del producto en la publicación, sin descuento |\n",
    "| price | Precio del producto en la publicación, con descuento |\n",
    "| category_id | ID de categoría del producto |\n",
    "| tags | Tags de la publicación |\n",
    "| attributes | Atributos del producto publicado |\n",
    "| variations | Variaciones del producto publicado |\n",
    "| pictures | Fotos del producto publicado |\n",
    "| seller_id | ID del vendedor |\n",
    "| seller_country | País de residencia del vendedor |\n",
    "| seller_province | Provincia de residencia del vendedor |\n",
    "| seller_city | Ciudad de residencia del vendedor |\n",
    "| seller_loyalty | Loyalty o segmento del vendedor |\n",
    "| buying_mode | Modo de compra especificado |\n",
    "| shipping_mode | Modo de envío especificado |\n",
    "| shipping_admits_pickup | Flag indicando si se puede retirar al domicilio del vendedor |\n",
    "| shipping_is_free | Flag indicando si el envío es gratis |\n",
    "| status | Estado de la publicación |\n",
    "| sub_status | Sub-estado de la publicación |\n",
    "| warranty | Garantía del producto |\n",
    "| is_new | Flag indicando si el producto es nuevo |\n",
    "| initial_quantity | Stock inicial del producto |\n",
    "| sold_quantity | Stock vendido del producto |\n",
    "| available_quantity | Stock disponible del producto |\n"
   ]
  },
  {
   "cell_type": "code",
   "execution_count": null,
   "metadata": {},
   "outputs": [],
   "source": [
    "import json\n",
    "\n",
    "\n",
    "# You can safely assume that `build_dataset` is correctly implemented\n",
    "def build_dataset():\n",
    "    data = [json.loads(x) for x in open(\"MLA_100k.jsonlines\")]\n",
    "    target = lambda x: x.get(\"condition\")\n",
    "    N = -10000\n",
    "    X_train = data[:N]\n",
    "    X_test = data[N:]\n",
    "    y_train = [target(x) for x in X_train]\n",
    "    y_test = [target(x) for x in X_test]\n",
    "    for x in X_test:\n",
    "        del x[\"condition\"]\n",
    "    return X_train, y_train, X_test, y_test"
   ]
  },
  {
   "attachments": {},
   "cell_type": "markdown",
   "metadata": {},
   "source": [
    "# Modelado"
   ]
  },
  {
   "attachments": {},
   "cell_type": "markdown",
   "metadata": {
    "id": "fTaJvdhLsHm_"
   },
   "source": [
    "## Tareas\n",
    "\n",
    "En este notebook se deberá cargar todas las librerías que se necesitan para explorar y procesar el dataset dado, y así realizar el modelo corresponendiente para resolver el objetivo propuesto. Se puede realizar cualquier análisis deseado, pero al final se espera encontrar realizadas las tareas del tipo \"requerido\". Además, hay algunos aspectos valorados del tipo \"deseable\" que podrían enriquecer el trabajo, y algunos \"bonus\" extra.\n",
    "\n",
    "El código debe ser desarrollado en Python 3.x (NO 2.x). Los reportes pueden estar en español o inglés.\n",
    "\n",
    "### Requerido\n",
    "\n",
    "- **Data QA:** Se debe chequear la calidad del dataset para hacer una evaluación de qué tan apropiados son los datos para tareas de Data Science. Proponga un conjunto de correcciones en los datos de ser necesario.\n",
    "- **Reporting:** Documente los resultados e insights obtenidos durante la exploración y describa conclusiones desde una perspectiva de negocio, soportado por gráficos / tablas / métricas.\n",
    "- **Feature Engineering:** Indicar y calcular posibles candidatos de features que podrían utilizarse en un modelo predictivo para resolver la problematica indicada, tanto desde las columnas originales como desde transformaciones.\n",
    "- **Machine Learning:** Realice un modelo predictivo capaz de solucionar el problema propuesto\n",
    "- **Mostrar skills en Python:** Teniendo buenas practicas en la estructura del código y la documentación.\n",
    "- **Métricas:** Definir y calcular las métricas que considere más relevantes para la problemática propuesta.\n",
    "\n",
    "### Deseable\n",
    "\n",
    "- **Versionado de código con Git** (incluso puede publicarse en tu cuenta personal de GitHub!).\n",
    "\n",
    "### Bonus\n",
    "\n",
    "- Manejo de environment de desarrollo mediante alguna tecnología (e.g. Docker, virtualenv, conda).\n"
   ]
  },
  {
   "attachments": {},
   "cell_type": "markdown",
   "metadata": {},
   "source": [
    "# Productizacion"
   ]
  },
  {
   "attachments": {},
   "cell_type": "markdown",
   "metadata": {
    "id": "zjeLhCMKxNiy"
   },
   "source": [
    "## Descripción \n",
    "\n",
    "Una vez que el modelo está entrenado, el despliegue (deployment) es una etapa fundamental para llevarlo al entorno productivo donde será expuesto para hacer predicciones en el mundo real. La forma más efectiva de disponibilizarlo es a través de una API la cual facilita la comunicación entre el modelo y los clientes u otras aplicaciones."
   ]
  },
  {
   "attachments": {},
   "cell_type": "markdown",
   "metadata": {},
   "source": [
    "## Tareas\n",
    "\n",
    "Diseñar un servicio que disponibilice el modelo mediante un REST framework, que reciba como dato de entrada un item y como salida retorne la predicción (si es nuevo o usado). Para ésto, se deberá proporcionar un endpoint /predict al cual se le envie el item como un query param o como parte de un body, cualquier solución es válida.\n",
    "\n",
    "La modularidad es un aspecto importante a tener en cuenta para simplificar la gestión del proyecto. Si bien la implementación pedida es sencilla (al contar con un sólo endpoint por el momento), se espera que el servicio esté pensado para extenderse fácilmente, y que además sea robusto para garantizar su rendimiento y escalabilidad.\n",
    "\n",
    "El código debe ser desarrollado en Python 3.x (NO 2.x). La documentación pueden estar en español o inglés.\n",
    "\n",
    "### Requerido\n",
    "\n",
    "- **Software Engineering:** Aplicar técnicas de desarrollo de software para lograr un enfoque estructurado.\n",
    "- **Skills en Python:** Respetar la guía de estilo de código propuesto por PEP8.\n",
    "- **Testing:** Escribir todos los casos de test que se consideren necesarios.\n",
    "- **Documentación:** Entregar un README que indique como implementar y hacer uso de la aplicación.\n",
    "\n",
    "### Deseable\n",
    "\n",
    "- **Versionado de código con Git** (incluso puede publicarse en tu cuenta personal de GitHub!).\n",
    "\n",
    "### Bonus\n",
    "\n",
    "- Manejo de environment de desarrollo mediante alguna tecnología (e.g. Docker, virtualenv, conda).\n"
   ]
  },
  {
   "attachments": {},
   "cell_type": "markdown",
   "metadata": {},
   "source": [
    "Este ejercicio está diseñado para ser completado en 8 - 12 hs siguiendo sólo los aspectos del tipo \"requerido\" y \"deseable\", pero se contempla una semana para entregarlo con todos los aspectos que se deseen completar.\n",
    "\n",
    "Una vez completado este ejercicio, por favor mandar un archivo ZIP de la carpeta con todos los recursos usados en este trabajo (e.g. Jupyter notebook, scripts, documentos, imágenes, etc), o bien el enlace al repositorio de GitHub, a santiago.feraud@mercadolibre.com.\n",
    "\n",
    "**Que te diviertas!**\n",
    "\n",
    "<img src=\"http://s3.amazonaws.com/melidata-external/data-science-interviews/2021/img/hunger_games_data_meme.jpeg\" alt=\"drawing\" style=\"width:200px;\"/>"
   ]
  },
  {
   "cell_type": "code",
   "execution_count": null,
   "metadata": {},
   "outputs": [],
   "source": []
  }
 ],
 "metadata": {
  "@webio": {
   "lastCommId": "814db409262d41e59a8f535448fcae85",
   "lastKernelId": "3183b2f9-976f-49e9-9ea7-931bafbad9e4"
  },
  "colab": {
   "provenance": []
  },
  "kernelspec": {
   "display_name": "Python 3 (ipykernel)",
   "language": "python",
   "name": "python3"
  },
  "language_info": {
   "codemirror_mode": {
    "name": "ipython",
    "version": 3
   },
   "file_extension": ".py",
   "mimetype": "text/x-python",
   "name": "python",
   "nbconvert_exporter": "python",
   "pygments_lexer": "ipython3",
   "version": "3.9.6"
  }
 },
 "nbformat": 4,
 "nbformat_minor": 1
}
